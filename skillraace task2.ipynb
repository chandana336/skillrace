{
 "cells": [
  {
   "cell_type": "code",
   "execution_count": null,
   "id": "dd20b16e-1ed2-4ae4-9393-e03217843669",
   "metadata": {},
   "outputs": [],
   "source": [
    "# Rapido bike ride request forecast using ML"
   ]
  },
  {
   "cell_type": "code",
   "execution_count": 12,
   "id": "765bc867-9bea-47a1-bf66-5526032e2400",
   "metadata": {},
   "outputs": [
    {
     "name": "stdout",
     "output_type": "stream",
     "text": [
      "              timestamp  ride_requests  temperature  humidity\n",
      "0   2024-01-02 00:00:00            112           26        67\n",
      "1   2024-01-02 01:00:00            189           20        64\n",
      "2   2024-01-02 02:00:00            102           23        89\n",
      "3   2024-01-02 03:00:00             24           32        62\n",
      "4   2024-01-02 04:00:00            116           23        70\n",
      "..                  ...            ...          ...       ...\n",
      "140 2024-06-02 20:00:00             51           26        89\n",
      "141 2024-06-02 21:00:00            133           21        64\n",
      "142 2024-06-02 22:00:00            188           27        63\n",
      "143 2024-06-02 23:00:00             72           20        52\n",
      "144 2024-07-02 00:00:00            105           30        46\n",
      "\n",
      "[145 rows x 4 columns]\n"
     ]
    }
   ],
   "source": [
    "import pandas as pd\n",
    "import numpy as np\n",
    "import matplotlib.pyplot as plt\n",
    "from sklearn.model_selection import train_test_split\n",
    "from sklearn.ensemble import RandomForestRegressor\n",
    "from sklearn.metrics import mean_absolute_error, mean_squared_error\n",
    "\n",
    "# Load dataset\n",
    "data = pd.read_csv(\"f://rapido_ride_data.csv\", parse_dates=['timestamp'])\n",
    "print(data)\n",
    "\n",
    "# Feature Engineering\n",
    "data['hour'] = data['timestamp'].dt.hour\n",
    "data['dayofweek'] = data['timestamp'].dt.dayofweek\n",
    "data['month'] = data['timestamp'].dt.month\n",
    "data.drop(columns=['timestamp'], inplace=True)\n",
    "\n",
    "# Define features and target\n",
    "X = data.drop(columns=['ride_requests'])\n",
    "y = data['ride_requests']\n",
    "y\n"
   ]
  },
  {
   "cell_type": "code",
   "execution_count": 10,
   "id": "e7412f3d-8d8a-47f4-adee-6ed5f19a3d28",
   "metadata": {},
   "outputs": [
    {
     "name": "stdout",
     "output_type": "stream",
     "text": [
      "     temperature  humidity  hour  dayofweek  month\n",
      "9             32        55     9          1      1\n",
      "4             23        70     4          1      1\n",
      "26            25        42     2          4      2\n",
      "120           31        71     0          6      6\n",
      "125           23        66     5          6      6\n",
      "..           ...       ...   ...        ...    ...\n",
      "71            20        77    23          5      3\n",
      "106           30        60    10          3      5\n",
      "14            32        40    14          1      1\n",
      "92            20        69    20          1      4\n",
      "102           23        85     6          3      5\n",
      "\n",
      "[116 rows x 5 columns]      temperature  humidity  hour  dayofweek  month\n",
      "69            20        69    21          5      3\n",
      "140           26        89    20          6      6\n",
      "27            31        59     3          4      2\n",
      "19            31        71    19          1      1\n",
      "42            20        64    18          4      2\n",
      "117           34        85    21          3      5\n",
      "126           31        81     6          6      6\n",
      "108           34        62    12          3      5\n",
      "84            30        87    12          1      4\n",
      "18            25        76    18          1      1\n",
      "12            32        88    12          1      1\n",
      "55            28        53     7          5      3\n",
      "128           23        65     8          6      6\n",
      "78            22        69     6          1      4\n",
      "73            23        47     1          1      4\n",
      "36            26        79    12          4      2\n",
      "112           23        64    16          3      5\n",
      "133           22        82    13          6      6\n",
      "100           25        68     4          3      5\n",
      "101           26        88     5          3      5\n",
      "94            22        85    22          1      4\n",
      "136           23        68    16          6      6\n",
      "11            30        87    11          1      1\n",
      "66            27        61    18          5      3\n",
      "31            23        50     7          4      2\n",
      "45            33        85    21          4      2\n",
      "51            26        75     3          5      3\n",
      "76            26        73     4          1      4\n",
      "111           24        57    15          3      5 9      131\n",
      "4      116\n",
      "26     170\n",
      "120     42\n",
      "125    108\n",
      "      ... \n",
      "71      11\n",
      "106    148\n",
      "14     113\n",
      "92     197\n",
      "102     97\n",
      "Name: ride_requests, Length: 116, dtype: int64 69     113\n",
      "140     51\n",
      "27      67\n",
      "19      11\n",
      "42      73\n",
      "117     81\n",
      "126    181\n",
      "108    145\n",
      "84      24\n",
      "18      62\n",
      "12     126\n",
      "55      99\n",
      "128     44\n",
      "78      53\n",
      "73      63\n",
      "36     199\n",
      "112    132\n",
      "133     14\n",
      "100     80\n",
      "101     18\n",
      "94      50\n",
      "136     36\n",
      "11      97\n",
      "66      90\n",
      "31      68\n",
      "45     144\n",
      "51      98\n",
      "76      63\n",
      "111     42\n",
      "Name: ride_requests, dtype: int64\n",
      "MAE: 50.18965517241381, RMSE: 61.23502001193491\n"
     ]
    }
   ],
   "source": [
    "# Split data\n",
    "X_train, X_test, y_train, y_test = train_test_split(X, y, test_size=0.2, random_state=42)\n",
    "print(X_train, X_test, y_train, y_test)\n",
    "# Train Model\n",
    "model = RandomForestRegressor(n_estimators=100, random_state=42)\n",
    "model.fit(X_train, y_train)\n",
    "\n",
    "# Predictions\n",
    "y_pred = model.predict(X_test)\n",
    "\n",
    "# Evaluate Model\n",
    "mae = mean_absolute_error(y_test, y_pred)\n",
    "mse = mean_squared_error(y_test, y_pred)\n",
    "rmse = np.sqrt(mse)\n",
    "print(f\"MAE: {mae}, RMSE: {rmse}\")"
   ]
  },
  {
   "cell_type": "code",
   "execution_count": 11,
   "id": "20833b38-8167-4599-88c2-9504f5c3b76a",
   "metadata": {},
   "outputs": [
    {
     "name": "stdout",
     "output_type": "stream",
     "text": [
      "Predicted ride requests for 14:00 -> 95.02\n"
     ]
    },
    {
     "name": "stderr",
     "output_type": "stream",
     "text": [
      "E:\\Users\\A Chandana\\anaconda3\\Lib\\site-packages\\sklearn\\base.py:439: UserWarning: X does not have valid feature names, but RandomForestRegressor was fitted with feature names\n",
      "  warnings.warn(\n"
     ]
    }
   ],
   "source": [
    "# Predict for a given hour\n",
    "def predict_ride_requests(hour, temperature, humidity, dayofweek, month):\n",
    "    input_data = np.array([[hour, temperature, humidity, dayofweek, month]])\n",
    "    return model.predict(input_data)[0]\n",
    "\n",
    "# Example Prediction\n",
    "hour = 14  # 2 PM\n",
    "temperature = 30  # Celsius\n",
    "humidity = 60  # Percentage\n",
    "dayofweek = 2  # Wednesday\n",
    "month = 2  # February\n",
    "\n",
    "predicted_rides = predict_ride_requests(hour, temperature, humidity, dayofweek, month)\n",
    "print(f\"Predicted ride requests for {hour}:00 -> {predicted_rides}\")\n"
   ]
  },
  {
   "cell_type": "code",
   "execution_count": null,
   "id": "a7436dc3-85ab-4c41-bbf4-4463ab3a777c",
   "metadata": {},
   "outputs": [],
   "source": []
  }
 ],
 "metadata": {
  "kernelspec": {
   "display_name": "Python 3 (ipykernel)",
   "language": "python",
   "name": "python3"
  },
  "language_info": {
   "codemirror_mode": {
    "name": "ipython",
    "version": 3
   },
   "file_extension": ".py",
   "mimetype": "text/x-python",
   "name": "python",
   "nbconvert_exporter": "python",
   "pygments_lexer": "ipython3",
   "version": "3.11.7"
  }
 },
 "nbformat": 4,
 "nbformat_minor": 5
}
