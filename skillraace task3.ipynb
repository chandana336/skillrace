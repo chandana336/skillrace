{
 "cells": [
  {
   "cell_type": "code",
   "execution_count": 4,
   "id": "7cb442e8-d769-4f92-9f4f-555e55b98eee",
   "metadata": {},
   "outputs": [
    {
     "name": "stdout",
     "output_type": "stream",
     "text": [
      "Requirement already satisfied: pandas in e:\\users\\a chandana\\anaconda3\\lib\\site-packages (2.1.4)\n",
      "Requirement already satisfied: numpy in e:\\users\\a chandana\\anaconda3\\lib\\site-packages (1.26.4)\n",
      "Requirement already satisfied: scikit-learn in e:\\users\\a chandana\\anaconda3\\lib\\site-packages (1.2.2)\n",
      "Requirement already satisfied: flask in e:\\users\\a chandana\\anaconda3\\lib\\site-packages (2.2.5)\n",
      "Requirement already satisfied: python-dateutil>=2.8.2 in e:\\users\\a chandana\\anaconda3\\lib\\site-packages (from pandas) (2.8.2)\n",
      "Requirement already satisfied: pytz>=2020.1 in e:\\users\\a chandana\\anaconda3\\lib\\site-packages (from pandas) (2023.3.post1)\n",
      "Requirement already satisfied: tzdata>=2022.1 in e:\\users\\a chandana\\anaconda3\\lib\\site-packages (from pandas) (2023.3)\n",
      "Requirement already satisfied: scipy>=1.3.2 in e:\\users\\a chandana\\anaconda3\\lib\\site-packages (from scikit-learn) (1.11.4)\n",
      "Requirement already satisfied: joblib>=1.1.1 in e:\\users\\a chandana\\anaconda3\\lib\\site-packages (from scikit-learn) (1.2.0)\n",
      "Requirement already satisfied: threadpoolctl>=2.0.0 in e:\\users\\a chandana\\anaconda3\\lib\\site-packages (from scikit-learn) (2.2.0)\n",
      "Requirement already satisfied: Werkzeug>=2.2.2 in e:\\users\\a chandana\\anaconda3\\lib\\site-packages (from flask) (2.2.3)\n",
      "Requirement already satisfied: Jinja2>=3.0 in e:\\users\\a chandana\\anaconda3\\lib\\site-packages (from flask) (3.1.3)\n",
      "Requirement already satisfied: itsdangerous>=2.0 in e:\\users\\a chandana\\anaconda3\\lib\\site-packages (from flask) (2.0.1)\n",
      "Requirement already satisfied: click>=8.0 in e:\\users\\a chandana\\anaconda3\\lib\\site-packages (from flask) (8.1.7)\n",
      "Requirement already satisfied: colorama in e:\\users\\a chandana\\anaconda3\\lib\\site-packages (from click>=8.0->flask) (0.4.6)\n",
      "Requirement already satisfied: MarkupSafe>=2.0 in e:\\users\\a chandana\\anaconda3\\lib\\site-packages (from Jinja2>=3.0->flask) (2.1.3)\n",
      "Requirement already satisfied: six>=1.5 in e:\\users\\a chandana\\anaconda3\\lib\\site-packages (from python-dateutil>=2.8.2->pandas) (1.16.0)\n",
      "Note: you may need to restart the kernel to use updated packages.\n"
     ]
    }
   ],
   "source": [
    "pip install pandas numpy scikit-learn flask\n"
   ]
  },
  {
   "cell_type": "code",
   "execution_count": 20,
   "id": "106892bc-c7fe-4a9f-976f-cff4a718c120",
   "metadata": {},
   "outputs": [],
   "source": [
    "#import required libraries\n",
    "import pandas as pd\n",
    "import numpy as np\n",
    "from sklearn.model_selection import train_test_split\n",
    "from sklearn.ensemble import RandomForestClassifier\n",
    "from sklearn.preprocessing import LabelEncoder\n",
    "from sklearn.metrics import accuracy_score\n",
    "\n"
   ]
  },
  {
   "cell_type": "code",
   "execution_count": 21,
   "id": "c79c99ba-60cb-4c5f-a1b0-edf5a0bcc1ca",
   "metadata": {},
   "outputs": [
    {
     "name": "stdout",
     "output_type": "stream",
     "text": [
      "   Fever  Cough  Fatigue  Headache  Sore_Throat  Shortness_of_Breath  \\\n",
      "0      1      1        1         0            1                    0   \n",
      "1      1      0        1         1            0                    0   \n",
      "2      0      1        1         0            1                    0   \n",
      "3      1      1        0         0            0                    1   \n",
      "4      0      1        1         1            0                    0   \n",
      "5      1      1        1         1            1                    0   \n",
      "6      1      1        0         0            0                    1   \n",
      "7      0      0        1         1            0                    0   \n",
      "8      1      0        1         0            1                    1   \n",
      "9      0      1        0         1            0                    0   \n",
      "\n",
      "   Chest_Pain        Disease  \n",
      "0           0            Flu  \n",
      "1           0       COVID-19  \n",
      "2           0    Common Cold  \n",
      "3           1      Pneumonia  \n",
      "4           0       Migraine  \n",
      "5           0         Dengue  \n",
      "6           0     Bronchitis  \n",
      "7           0         Anemia  \n",
      "8           1   Tuberculosis  \n",
      "9           1  Heart Disease  \n"
     ]
    }
   ],
   "source": [
    "df = pd.read_csv(\"f://health_data.csv\")\n",
    "print(df)"
   ]
  },
  {
   "cell_type": "code",
   "execution_count": 22,
   "id": "c542fda6-1208-4819-9162-bb71b1e40178",
   "metadata": {},
   "outputs": [
    {
     "name": "stdout",
     "output_type": "stream",
     "text": [
      "Fever                  0\n",
      "Cough                  0\n",
      "Fatigue                0\n",
      "Headache               0\n",
      "Sore_Throat            0\n",
      "Shortness_of_Breath    0\n",
      "Chest_Pain             0\n",
      "Disease                0\n",
      "dtype: int64\n",
      "Disease\n",
      "Flu              1\n",
      "COVID-19         1\n",
      "Common Cold      1\n",
      "Pneumonia        1\n",
      "Migraine         1\n",
      "Dengue           1\n",
      "Bronchitis       1\n",
      "Anemia           1\n",
      "Tuberculosis     1\n",
      "Heart Disease    1\n",
      "Name: count, dtype: int64\n"
     ]
    }
   ],
   "source": [
    "print(df.isnull().sum())  # Check for missing values\n",
    "print(df['Disease'].value_counts())  # Check for class imbalance\n",
    "\n"
   ]
  },
  {
   "cell_type": "code",
   "execution_count": 23,
   "id": "9724768c-c46e-4bc0-9389-3f561ff6d7be",
   "metadata": {},
   "outputs": [],
   "source": [
    "df.fillna(0, inplace=True)\n"
   ]
  },
  {
   "cell_type": "code",
   "execution_count": 25,
   "id": "a6a5e136-81cd-401d-8a09-3293398e2761",
   "metadata": {},
   "outputs": [],
   "source": [
    "from imblearn.over_sampling import SMOTE\n",
    "smote = SMOTE()\n",
    "X_resampled, y_resampled = smote.fit_resample(X, y)\n"
   ]
  },
  {
   "cell_type": "code",
   "execution_count": 29,
   "id": "64c92d70-e0db-4b3a-b926-c7ab1890dac7",
   "metadata": {},
   "outputs": [
    {
     "name": "stdout",
     "output_type": "stream",
     "text": [
      "Model Accuracy: 0.00\n"
     ]
    }
   ],
   "source": [
    "# Encoding categorical disease labels\n",
    "label_encoder = LabelEncoder()\n",
    "df['Disease'] = label_encoder.fit_transform(df['Disease'])\n",
    "\n",
    "# Splitting features and target\n",
    "X = df.drop(columns=['Disease'])  # Symptoms as features\n",
    "y = df['Disease']  # Disease as target\n",
    "\n",
    "# Splitting dataset into training and testing sets\n",
    "X_train, X_test, y_train, y_test = train_test_split(X, y, test_size=0.2, random_state=42)\n",
    "\n",
    "# Train Random Forest Classifier\n",
    "model = RandomForestClassifier(n_estimators=100, random_state=42)\n",
    "model.fit(X_train, y_train)\n",
    "\n",
    "# Evaluate model accuracy\n",
    "y_pred = model.predict(X_test)\n",
    "accuracy = accuracy_score(y_test, y_pred)\n",
    "print(f'Model Accuracy: {accuracy:.2f}')\n"
   ]
  },
  {
   "cell_type": "code",
   "execution_count": 30,
   "id": "6d585a9d-c049-4cdd-8f3b-8d3497f4e3bb",
   "metadata": {},
   "outputs": [
    {
     "name": "stdout",
     "output_type": "stream",
     "text": [
      "Predicted Disease: 5\n"
     ]
    },
    {
     "name": "stderr",
     "output_type": "stream",
     "text": [
      "E:\\Users\\A Chandana\\anaconda3\\Lib\\site-packages\\sklearn\\base.py:439: UserWarning: X does not have valid feature names, but RandomForestClassifier was fitted with feature names\n",
      "  warnings.warn(\n"
     ]
    }
   ],
   "source": [
    "# Function to predict disease based on symptoms\n",
    "def predict_disease(symptoms):\n",
    "    input_data = np.zeros(len(X.columns))  # Create zero vector for symptoms\n",
    "    for symptom in symptoms:\n",
    "        if symptom in X.columns:\n",
    "            input_data[X.columns.get_loc(symptom)] = 1  # Mark symptom as present\n",
    "\n",
    "    # Predict using trained model\n",
    "    prediction = model.predict([input_data])\n",
    "    return label_encoder.inverse_transform(prediction)[0]\n",
    "\n",
    "# Example usage\n",
    "symptoms_list = ['Fever', 'Cough', 'Fatigue']  # Example symptoms\n",
    "predicted_disease = predict_disease(symptoms_list)\n",
    "print(f'Predicted Disease: {predicted_disease}')\n"
   ]
  },
  {
   "cell_type": "code",
   "execution_count": null,
   "id": "a676aaac-499f-4f37-ae02-6d7c245d6750",
   "metadata": {},
   "outputs": [],
   "source": []
  }
 ],
 "metadata": {
  "kernelspec": {
   "display_name": "Python 3 (ipykernel)",
   "language": "python",
   "name": "python3"
  },
  "language_info": {
   "codemirror_mode": {
    "name": "ipython",
    "version": 3
   },
   "file_extension": ".py",
   "mimetype": "text/x-python",
   "name": "python",
   "nbconvert_exporter": "python",
   "pygments_lexer": "ipython3",
   "version": "3.11.7"
  }
 },
 "nbformat": 4,
 "nbformat_minor": 5
}
